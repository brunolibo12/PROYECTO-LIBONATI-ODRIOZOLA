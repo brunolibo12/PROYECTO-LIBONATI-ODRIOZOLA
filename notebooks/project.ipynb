{
 "cells": [
  {
   "attachments": {},
   "cell_type": "markdown",
   "id": "innocent-university",
   "metadata": {},
   "source": [
    "# Limpieza del dataset de bienes raíces\n",
    "\n",
    "Este es un conjunto de datos (dataset) reales que fue descargado usando técnicas de web scraping. El archivo contiene registros de **Fotocasa**, el cual es uno de los sitios más populares de bienes raíces en España. Contiene miles de datos de casas reales publicadas en la web www.fotocasa.com.\n",
    "\n",
    "El dataset fue descargado hace algunos años y en ningún caso se obtuvo beneficio económico de ello.\n",
    "\n",
    "Tu objetivo es extraer tanta información como sea posible con el conocimiento que tienes hasta ahora de ciencia de datos."
   ]
  },
  {
   "cell_type": "code",
   "id": "frank-heath",
   "metadata": {
    "ExecuteTime": {
     "end_time": "2025-10-08T13:04:54.837773Z",
     "start_time": "2025-10-08T13:04:49.529948Z"
    }
   },
   "source": [
    "import pandas as pd"
   ],
   "outputs": [],
   "execution_count": 1
  },
  {
   "cell_type": "markdown",
   "id": "5807eba1fce08a86",
   "metadata": {},
   "source": [
    "#### Ejercicio 00\n",
    "\n",
    "Lee el dataset data/real_estate.csv e intenta visualizar la tabla (★☆☆)"
   ]
  },
  {
   "cell_type": "code",
   "execution_count": 2,
   "id": "82e7dea53f252c1c",
   "metadata": {
    "ExecuteTime": {
     "end_time": "2025-09-23T22:18:48.046480Z",
     "start_time": "2025-09-23T22:18:47.647010Z"
    }
   },
   "outputs": [
    {
     "data": {
      "text/html": [
       "<div>\n",
       "<style scoped>\n",
       "    .dataframe tbody tr th:only-of-type {\n",
       "        vertical-align: middle;\n",
       "    }\n",
       "\n",
       "    .dataframe tbody tr th {\n",
       "        vertical-align: top;\n",
       "    }\n",
       "\n",
       "    .dataframe thead th {\n",
       "        text-align: right;\n",
       "    }\n",
       "</style>\n",
       "<table border=\"1\" class=\"dataframe\">\n",
       "  <thead>\n",
       "    <tr style=\"text-align: right;\">\n",
       "      <th></th>\n",
       "      <th>Unnamed: 0</th>\n",
       "      <th>id_realEstates</th>\n",
       "      <th>isNew</th>\n",
       "      <th>realEstate_name</th>\n",
       "      <th>phone_realEstate</th>\n",
       "      <th>url_inmueble</th>\n",
       "      <th>rooms</th>\n",
       "      <th>bathrooms</th>\n",
       "      <th>surface</th>\n",
       "      <th>price</th>\n",
       "      <th>...</th>\n",
       "      <th>level4Id</th>\n",
       "      <th>level5Id</th>\n",
       "      <th>level6Id</th>\n",
       "      <th>level7Id</th>\n",
       "      <th>level8Id</th>\n",
       "      <th>accuracy</th>\n",
       "      <th>latitude</th>\n",
       "      <th>longitude</th>\n",
       "      <th>zipCode</th>\n",
       "      <th>customZone</th>\n",
       "    </tr>\n",
       "  </thead>\n",
       "  <tbody>\n",
       "    <tr>\n",
       "      <th>0</th>\n",
       "      <td>1</td>\n",
       "      <td>153771986</td>\n",
       "      <td>False</td>\n",
       "      <td>ferrari 57 inmobiliaria</td>\n",
       "      <td>912177526.0</td>\n",
       "      <td>https://www.fotocasa.es/es/comprar/vivienda/ma...</td>\n",
       "      <td>3.0</td>\n",
       "      <td>2.0</td>\n",
       "      <td>103.0</td>\n",
       "      <td>195000</td>\n",
       "      <td>...</td>\n",
       "      <td>0</td>\n",
       "      <td>0</td>\n",
       "      <td>0</td>\n",
       "      <td>0</td>\n",
       "      <td>0</td>\n",
       "      <td>0</td>\n",
       "      <td>40,2948276786438</td>\n",
       "      <td>-3,44402412135624</td>\n",
       "      <td>NaN</td>\n",
       "      <td>NaN</td>\n",
       "    </tr>\n",
       "    <tr>\n",
       "      <th>1</th>\n",
       "      <td>2</td>\n",
       "      <td>153867863</td>\n",
       "      <td>False</td>\n",
       "      <td>tecnocasa fuenlabrada ferrocarril</td>\n",
       "      <td>916358736.0</td>\n",
       "      <td>https://www.fotocasa.es/es/comprar/vivienda/ma...</td>\n",
       "      <td>3.0</td>\n",
       "      <td>1.0</td>\n",
       "      <td>NaN</td>\n",
       "      <td>89000</td>\n",
       "      <td>...</td>\n",
       "      <td>0</td>\n",
       "      <td>0</td>\n",
       "      <td>0</td>\n",
       "      <td>0</td>\n",
       "      <td>0</td>\n",
       "      <td>1</td>\n",
       "      <td>40,28674</td>\n",
       "      <td>-3,79351</td>\n",
       "      <td>NaN</td>\n",
       "      <td>NaN</td>\n",
       "    </tr>\n",
       "    <tr>\n",
       "      <th>2</th>\n",
       "      <td>3</td>\n",
       "      <td>153430440</td>\n",
       "      <td>False</td>\n",
       "      <td>look find boadilla</td>\n",
       "      <td>916350408.0</td>\n",
       "      <td>https://www.fotocasa.es/es/comprar/vivienda/ma...</td>\n",
       "      <td>2.0</td>\n",
       "      <td>2.0</td>\n",
       "      <td>99.0</td>\n",
       "      <td>390000</td>\n",
       "      <td>...</td>\n",
       "      <td>0</td>\n",
       "      <td>0</td>\n",
       "      <td>0</td>\n",
       "      <td>0</td>\n",
       "      <td>0</td>\n",
       "      <td>0</td>\n",
       "      <td>40,4115646786438</td>\n",
       "      <td>-3,90662252135624</td>\n",
       "      <td>NaN</td>\n",
       "      <td>NaN</td>\n",
       "    </tr>\n",
       "    <tr>\n",
       "      <th>3</th>\n",
       "      <td>4</td>\n",
       "      <td>152776331</td>\n",
       "      <td>False</td>\n",
       "      <td>tecnocasa fuenlabrada ferrocarril</td>\n",
       "      <td>916358736.0</td>\n",
       "      <td>https://www.fotocasa.es/es/comprar/vivienda/ma...</td>\n",
       "      <td>3.0</td>\n",
       "      <td>1.0</td>\n",
       "      <td>86.0</td>\n",
       "      <td>89000</td>\n",
       "      <td>...</td>\n",
       "      <td>0</td>\n",
       "      <td>0</td>\n",
       "      <td>0</td>\n",
       "      <td>0</td>\n",
       "      <td>0</td>\n",
       "      <td>0</td>\n",
       "      <td>40,2853785786438</td>\n",
       "      <td>-3,79508142135624</td>\n",
       "      <td>NaN</td>\n",
       "      <td>NaN</td>\n",
       "    </tr>\n",
       "    <tr>\n",
       "      <th>4</th>\n",
       "      <td>5</td>\n",
       "      <td>153180188</td>\n",
       "      <td>False</td>\n",
       "      <td>ferrari 57 inmobiliaria</td>\n",
       "      <td>912177526.0</td>\n",
       "      <td>https://www.fotocasa.es/es/comprar/vivienda/ma...</td>\n",
       "      <td>2.0</td>\n",
       "      <td>2.0</td>\n",
       "      <td>106.0</td>\n",
       "      <td>172000</td>\n",
       "      <td>...</td>\n",
       "      <td>0</td>\n",
       "      <td>0</td>\n",
       "      <td>0</td>\n",
       "      <td>0</td>\n",
       "      <td>0</td>\n",
       "      <td>0</td>\n",
       "      <td>40,2998774864376</td>\n",
       "      <td>-3,45226301356237</td>\n",
       "      <td>NaN</td>\n",
       "      <td>NaN</td>\n",
       "    </tr>\n",
       "    <tr>\n",
       "      <th>...</th>\n",
       "      <td>...</td>\n",
       "      <td>...</td>\n",
       "      <td>...</td>\n",
       "      <td>...</td>\n",
       "      <td>...</td>\n",
       "      <td>...</td>\n",
       "      <td>...</td>\n",
       "      <td>...</td>\n",
       "      <td>...</td>\n",
       "      <td>...</td>\n",
       "      <td>...</td>\n",
       "      <td>...</td>\n",
       "      <td>...</td>\n",
       "      <td>...</td>\n",
       "      <td>...</td>\n",
       "      <td>...</td>\n",
       "      <td>...</td>\n",
       "      <td>...</td>\n",
       "      <td>...</td>\n",
       "      <td>...</td>\n",
       "      <td>...</td>\n",
       "    </tr>\n",
       "    <tr>\n",
       "      <th>15330</th>\n",
       "      <td>15331</td>\n",
       "      <td>153901377</td>\n",
       "      <td>False</td>\n",
       "      <td>infocasa consulting</td>\n",
       "      <td>911360461.0</td>\n",
       "      <td>https://www.fotocasa.es/es/comprar/vivienda/ma...</td>\n",
       "      <td>2.0</td>\n",
       "      <td>1.0</td>\n",
       "      <td>96.0</td>\n",
       "      <td>259470</td>\n",
       "      <td>...</td>\n",
       "      <td>0</td>\n",
       "      <td>0</td>\n",
       "      <td>0</td>\n",
       "      <td>0</td>\n",
       "      <td>0</td>\n",
       "      <td>0</td>\n",
       "      <td>40,45416</td>\n",
       "      <td>-3,70286</td>\n",
       "      <td>NaN</td>\n",
       "      <td>NaN</td>\n",
       "    </tr>\n",
       "    <tr>\n",
       "      <th>15331</th>\n",
       "      <td>15332</td>\n",
       "      <td>150394373</td>\n",
       "      <td>False</td>\n",
       "      <td>inmobiliaria pulpon</td>\n",
       "      <td>912788039.0</td>\n",
       "      <td>https://www.fotocasa.es/es/comprar/vivienda/ma...</td>\n",
       "      <td>3.0</td>\n",
       "      <td>1.0</td>\n",
       "      <td>150.0</td>\n",
       "      <td>165000</td>\n",
       "      <td>...</td>\n",
       "      <td>0</td>\n",
       "      <td>0</td>\n",
       "      <td>0</td>\n",
       "      <td>0</td>\n",
       "      <td>0</td>\n",
       "      <td>0</td>\n",
       "      <td>40,36652</td>\n",
       "      <td>-3,48951</td>\n",
       "      <td>NaN</td>\n",
       "      <td>NaN</td>\n",
       "    </tr>\n",
       "    <tr>\n",
       "      <th>15332</th>\n",
       "      <td>15333</td>\n",
       "      <td>153901397</td>\n",
       "      <td>False</td>\n",
       "      <td>tecnocasa torrelodones</td>\n",
       "      <td>912780348.0</td>\n",
       "      <td>https://www.fotocasa.es/es/comprar/vivienda/ma...</td>\n",
       "      <td>4.0</td>\n",
       "      <td>2.0</td>\n",
       "      <td>175.0</td>\n",
       "      <td>495000</td>\n",
       "      <td>...</td>\n",
       "      <td>0</td>\n",
       "      <td>0</td>\n",
       "      <td>0</td>\n",
       "      <td>0</td>\n",
       "      <td>0</td>\n",
       "      <td>0</td>\n",
       "      <td>40,57444</td>\n",
       "      <td>-3,92124</td>\n",
       "      <td>NaN</td>\n",
       "      <td>NaN</td>\n",
       "    </tr>\n",
       "    <tr>\n",
       "      <th>15333</th>\n",
       "      <td>15334</td>\n",
       "      <td>152607440</td>\n",
       "      <td>False</td>\n",
       "      <td>inmobiliaria pulpon</td>\n",
       "      <td>912788039.0</td>\n",
       "      <td>https://www.fotocasa.es/es/comprar/vivienda/ma...</td>\n",
       "      <td>3.0</td>\n",
       "      <td>2.0</td>\n",
       "      <td>101.0</td>\n",
       "      <td>195000</td>\n",
       "      <td>...</td>\n",
       "      <td>0</td>\n",
       "      <td>0</td>\n",
       "      <td>0</td>\n",
       "      <td>0</td>\n",
       "      <td>0</td>\n",
       "      <td>0</td>\n",
       "      <td>40,36967</td>\n",
       "      <td>-3,48105</td>\n",
       "      <td>NaN</td>\n",
       "      <td>NaN</td>\n",
       "    </tr>\n",
       "    <tr>\n",
       "      <th>15334</th>\n",
       "      <td>15335</td>\n",
       "      <td>153901356</td>\n",
       "      <td>False</td>\n",
       "      <td>infocasa consulting</td>\n",
       "      <td>911360461.0</td>\n",
       "      <td>https://www.fotocasa.es/es/comprar/vivienda/ma...</td>\n",
       "      <td>3.0</td>\n",
       "      <td>2.0</td>\n",
       "      <td>152.0</td>\n",
       "      <td>765000</td>\n",
       "      <td>...</td>\n",
       "      <td>0</td>\n",
       "      <td>0</td>\n",
       "      <td>0</td>\n",
       "      <td>0</td>\n",
       "      <td>0</td>\n",
       "      <td>0</td>\n",
       "      <td>40,45773</td>\n",
       "      <td>-3,69068</td>\n",
       "      <td>NaN</td>\n",
       "      <td>NaN</td>\n",
       "    </tr>\n",
       "  </tbody>\n",
       "</table>\n",
       "<p>15335 rows × 37 columns</p>\n",
       "</div>"
      ],
      "text/plain": [
       "       Unnamed: 0  id_realEstates  isNew                    realEstate_name  \\\n",
       "0               1       153771986  False            ferrari 57 inmobiliaria   \n",
       "1               2       153867863  False  tecnocasa fuenlabrada ferrocarril   \n",
       "2               3       153430440  False                 look find boadilla   \n",
       "3               4       152776331  False  tecnocasa fuenlabrada ferrocarril   \n",
       "4               5       153180188  False            ferrari 57 inmobiliaria   \n",
       "...           ...             ...    ...                                ...   \n",
       "15330       15331       153901377  False                infocasa consulting   \n",
       "15331       15332       150394373  False                inmobiliaria pulpon   \n",
       "15332       15333       153901397  False             tecnocasa torrelodones   \n",
       "15333       15334       152607440  False                inmobiliaria pulpon   \n",
       "15334       15335       153901356  False                infocasa consulting   \n",
       "\n",
       "       phone_realEstate                                       url_inmueble  \\\n",
       "0           912177526.0  https://www.fotocasa.es/es/comprar/vivienda/ma...   \n",
       "1           916358736.0  https://www.fotocasa.es/es/comprar/vivienda/ma...   \n",
       "2           916350408.0  https://www.fotocasa.es/es/comprar/vivienda/ma...   \n",
       "3           916358736.0  https://www.fotocasa.es/es/comprar/vivienda/ma...   \n",
       "4           912177526.0  https://www.fotocasa.es/es/comprar/vivienda/ma...   \n",
       "...                 ...                                                ...   \n",
       "15330       911360461.0  https://www.fotocasa.es/es/comprar/vivienda/ma...   \n",
       "15331       912788039.0  https://www.fotocasa.es/es/comprar/vivienda/ma...   \n",
       "15332       912780348.0  https://www.fotocasa.es/es/comprar/vivienda/ma...   \n",
       "15333       912788039.0  https://www.fotocasa.es/es/comprar/vivienda/ma...   \n",
       "15334       911360461.0  https://www.fotocasa.es/es/comprar/vivienda/ma...   \n",
       "\n",
       "       rooms  bathrooms  surface   price  ... level4Id level5Id level6Id  \\\n",
       "0        3.0        2.0    103.0  195000  ...        0        0        0   \n",
       "1        3.0        1.0      NaN   89000  ...        0        0        0   \n",
       "2        2.0        2.0     99.0  390000  ...        0        0        0   \n",
       "3        3.0        1.0     86.0   89000  ...        0        0        0   \n",
       "4        2.0        2.0    106.0  172000  ...        0        0        0   \n",
       "...      ...        ...      ...     ...  ...      ...      ...      ...   \n",
       "15330    2.0        1.0     96.0  259470  ...        0        0        0   \n",
       "15331    3.0        1.0    150.0  165000  ...        0        0        0   \n",
       "15332    4.0        2.0    175.0  495000  ...        0        0        0   \n",
       "15333    3.0        2.0    101.0  195000  ...        0        0        0   \n",
       "15334    3.0        2.0    152.0  765000  ...        0        0        0   \n",
       "\n",
       "      level7Id level8Id accuracy          latitude          longitude zipCode  \\\n",
       "0            0        0        0  40,2948276786438  -3,44402412135624     NaN   \n",
       "1            0        0        1          40,28674           -3,79351     NaN   \n",
       "2            0        0        0  40,4115646786438  -3,90662252135624     NaN   \n",
       "3            0        0        0  40,2853785786438  -3,79508142135624     NaN   \n",
       "4            0        0        0  40,2998774864376  -3,45226301356237     NaN   \n",
       "...        ...      ...      ...               ...                ...     ...   \n",
       "15330        0        0        0          40,45416           -3,70286     NaN   \n",
       "15331        0        0        0          40,36652           -3,48951     NaN   \n",
       "15332        0        0        0          40,57444           -3,92124     NaN   \n",
       "15333        0        0        0          40,36967           -3,48105     NaN   \n",
       "15334        0        0        0          40,45773           -3,69068     NaN   \n",
       "\n",
       "      customZone  \n",
       "0            NaN  \n",
       "1            NaN  \n",
       "2            NaN  \n",
       "3            NaN  \n",
       "4            NaN  \n",
       "...          ...  \n",
       "15330        NaN  \n",
       "15331        NaN  \n",
       "15332        NaN  \n",
       "15333        NaN  \n",
       "15334        NaN  \n",
       "\n",
       "[15335 rows x 37 columns]"
      ]
     },
     "execution_count": 2,
     "metadata": {},
     "output_type": "execute_result"
    }
   ],
   "source": [
    "# Este archivo CSV contiene puntos y comas en lugar de comas como separadores\n",
    "df = pd.read_csv('../data/real_estate.csv', sep=';')\n",
    "df"
   ]
  },
  {
   "cell_type": "markdown",
   "id": "9670bfd13cfca1e7",
   "metadata": {},
   "source": [
    "## Trabajando con un DataFrame"
   ]
  },
  {
   "attachments": {},
   "cell_type": "markdown",
   "id": "latin-guest",
   "metadata": {},
   "source": [
    "#### Ejercicio 01\n",
    "\n",
    "¿Cuál es la casa más cara del dataset? (★☆☆)\n",
    "\n",
    "Imprime la dirección y el precio de la casa seleccionada. Para visualizar el resultado utiliza un f-string. Por ejemplo:\n",
    "\n",
    "```py\n",
    "f'La casa más cara se encuentra en la dirección: {address} y su precio es {price} €'\n",
    "```"
   ]
  },
  {
   "cell_type": "code",
   "id": "developing-optimum",
   "metadata": {
    "ExecuteTime": {
     "end_time": "2025-10-08T13:12:42.770034Z",
     "start_time": "2025-10-08T13:12:41.639643Z"
    }
   },
   "source": [
    "# 🏠 Ejercicio 01 — Casa más cara del dataset\n",
    "\n",
    "\n",
    "# 1️⃣ Carga del dataset (ajustá la ruta según tu estructura de carpetas)\n",
    "df = pd.read_csv('../data/real_estate.csv', sep=';') # <- cambiá si está en otra carpeta\n",
    "\n",
    "# 2️⃣ Identificamos la casa más cara\n",
    "max_price_row = df.loc[df[\"price\"].idxmax()]\n",
    "\n",
    "# 3️⃣ Extraemos la dirección y el precio\n",
    "address = max_price_row[\"address\"]\n",
    "price = max_price_row[\"price\"]\n",
    "\n",
    "# 4️⃣ Mostramos el resultado formateado con f-string\n",
    "print(f\"La casa más cara se encuentra en la dirección: {address} y su precio es {price} €\")\n",
    "\n"
   ],
   "outputs": [
    {
     "name": "stdout",
     "output_type": "stream",
     "text": [
      "La casa más cara se encuentra en la dirección: El Escorial y su precio es 8500000 €\n"
     ]
    }
   ],
   "execution_count": 5
  },
  {
   "attachments": {},
   "cell_type": "markdown",
   "id": "lesser-cosmetic",
   "metadata": {},
   "source": [
    "#### Ejercicio 02\n",
    "\n",
    "¿Cuál es la casa más barata del dataset? (★☆☆)\n",
    "\n",
    "Imprime la dirección y el precio de la casa seleccionada utilizando f-string"
   ]
  },
  {
   "cell_type": "code",
   "id": "lovely-oasis",
   "metadata": {
    "ExecuteTime": {
     "end_time": "2025-10-08T13:18:06.395200Z",
     "start_time": "2025-10-08T13:18:05.147587Z"
    }
   },
   "source": [
    "# 🏠 Ejercicio 02 — Casa más barata del dataset\n",
    "\n",
    "# 1️⃣ Carga del dataset (usando la ruta y separador definidos)\n",
    "df = pd.read_csv('../data/real_estate.csv', sep=';')\n",
    "\n",
    "# 2️⃣ Identificamos la casa más barata\n",
    "min_price_row = df.loc[df[\"price\"].idxmin()]\n",
    "\n",
    "# 3️⃣ Extraemos la dirección y el precio\n",
    "address = min_price_row[\"address\"]\n",
    "price = min_price_row[\"price\"]\n",
    "\n",
    "# 4️⃣ Mostramos el resultado con f-string\n",
    "print(f\"La casa más barata se encuentra en la dirección: {address} y su precio es {price} €\")"
   ],
   "outputs": [
    {
     "name": "stdout",
     "output_type": "stream",
     "text": [
      "La casa más barata se encuentra en la dirección: Parla y su precio es 0 €\n"
     ]
    }
   ],
   "execution_count": 6
  },
  {
   "attachments": {},
   "cell_type": "markdown",
   "id": "compliant-fellowship",
   "metadata": {},
   "source": [
    "#### Ejercicio 03\n",
    "\n",
    "¿Cuál es la casa más grande del dataset? (★☆☆)\n",
    "\n",
    "Imprime la dirección y el área de las casas seleccionadas utilizando f-string"
   ]
  },
  {
   "cell_type": "code",
   "id": "f73938ad",
   "metadata": {
    "ExecuteTime": {
     "end_time": "2025-10-08T13:23:08.909454Z",
     "start_time": "2025-10-08T13:23:07.750772Z"
    }
   },
   "source": [
    "# 🏠 Ejercicio 03 — Casa más grande del dataset\n",
    "\n",
    "# 1️⃣ Carga del dataset\n",
    "df = pd.read_csv('../data/real_estate.csv', sep=';')\n",
    "\n",
    "# 2️⃣ Identificamos la casa con mayor superficie\n",
    "max_surface_row = df.loc[df[\"surface\"].idxmax()]\n",
    "\n",
    "# 3️⃣ Extraemos la dirección y la superficie\n",
    "address = max_surface_row[\"address\"]\n",
    "surface = max_surface_row[\"surface\"]\n",
    "\n",
    "# 4️⃣ Mostramos el resultado con f-string\n",
    "print(f\"La casa más grande se encuentra en la dirección: {address} y su área es de {surface} m²\")\n"
   ],
   "outputs": [
    {
     "name": "stdout",
     "output_type": "stream",
     "text": [
      "La casa más grande se encuentra en la dirección: Sevilla la Nueva y su área es de 249000.0 m²\n"
     ]
    }
   ],
   "execution_count": 8
  },
  {
   "cell_type": "markdown",
   "id": "89afefb0b0eb970e",
   "metadata": {},
   "source": [
    "#### Ejercicio 04\n",
    "\n",
    "¿Cuál es la casa más pequeña del dataset? (★☆☆)"
   ]
  },
  {
   "cell_type": "code",
   "id": "every-tiffany",
   "metadata": {
    "ExecuteTime": {
     "end_time": "2025-10-08T13:25:08.852319Z",
     "start_time": "2025-10-08T13:25:07.577702Z"
    }
   },
   "source": [
    "# 🏠 Ejercicio 04 — Casa más pequeña del dataset\n",
    "\n",
    "# 1️⃣ Carga del dataset\n",
    "df = pd.read_csv('../data/real_estate.csv', sep=';')\n",
    "\n",
    "# 2️⃣ Identificamos la casa con menor superficie\n",
    "min_surface_row = df.loc[df[\"surface\"].idxmin()]\n",
    "\n",
    "# 3️⃣ Extraemos la dirección y la superficie\n",
    "address = min_surface_row[\"address\"]\n",
    "surface = min_surface_row[\"surface\"]\n",
    "\n",
    "# 4️⃣ Mostramos el resultado con f-string\n",
    "print(f\"La casa más pequeña se encuentra en la dirección: {address} y su área es de {surface} m²\")"
   ],
   "outputs": [
    {
     "name": "stdout",
     "output_type": "stream",
     "text": [
      "La casa más pequeña se encuentra en la dirección: Calle Amparo,  Madrid Capital y su área es de 15.0 m²\n"
     ]
    }
   ],
   "execution_count": 9
  },
  {
   "attachments": {},
   "cell_type": "markdown",
   "id": "crazy-blame",
   "metadata": {},
   "source": [
    "#### Ejercicio 05.\n",
    "\n",
    "¿El dataset contiene valores no admitidos (NAs)? (★☆☆)\n",
    "\n",
    "- Muestra el nombre de las filas seguidas por un booleano (`True` o `False`) según contengan o no contengan NAs.\n",
    "- También muestra el nombre de las columnas seguidas por un booleano (`True` o `False`) según contengan o no contengan NAs."
   ]
  },
  {
   "cell_type": "code",
   "id": "transparent-poetry",
   "metadata": {
    "ExecuteTime": {
     "end_time": "2025-10-08T13:26:54.399506Z",
     "start_time": "2025-10-08T13:26:51.530967Z"
    }
   },
   "source": [
    "# 🏠 Ejercicio 05 — Detección de valores no admitidos (NAs)\n",
    "\n",
    "# 1️⃣ Carga del dataset\n",
    "df = pd.read_csv('../data/real_estate.csv', sep=';')\n",
    "\n",
    "# 2️⃣ Comprobación de NAs por fila\n",
    "print(\"🔹 Filas con valores nulos:\")\n",
    "print(df.isna().any(axis=1))\n",
    "\n",
    "# 3️⃣ Comprobación de NAs por columna\n",
    "print(\"\\n🔹 Columnas con valores nulos:\")\n",
    "print(df.isna().any(axis=0))"
   ],
   "outputs": [
    {
     "name": "stdout",
     "output_type": "stream",
     "text": [
      "🔹 Filas con valores nulos:\n",
      "0        True\n",
      "1        True\n",
      "2        True\n",
      "3        True\n",
      "4        True\n",
      "         ... \n",
      "15330    True\n",
      "15331    True\n",
      "15332    True\n",
      "15333    True\n",
      "15334    True\n",
      "Length: 15335, dtype: bool\n",
      "\n",
      "🔹 Columnas con valores nulos:\n",
      "Unnamed: 0          False\n",
      "id_realEstates      False\n",
      "isNew               False\n",
      "realEstate_name      True\n",
      "phone_realEstate     True\n",
      "url_inmueble        False\n",
      "rooms                True\n",
      "bathrooms            True\n",
      "surface              True\n",
      "price               False\n",
      "date                False\n",
      "description          True\n",
      "address             False\n",
      "country             False\n",
      "level1              False\n",
      "level2              False\n",
      "level3              False\n",
      "level4               True\n",
      "level5              False\n",
      "level6               True\n",
      "level7               True\n",
      "level8               True\n",
      "upperLevel          False\n",
      "countryId           False\n",
      "level1Id            False\n",
      "level2Id            False\n",
      "level3Id            False\n",
      "level4Id            False\n",
      "level5Id            False\n",
      "level6Id            False\n",
      "level7Id            False\n",
      "level8Id            False\n",
      "accuracy            False\n",
      "latitude            False\n",
      "longitude           False\n",
      "zipCode              True\n",
      "customZone           True\n",
      "dtype: bool\n"
     ]
    }
   ],
   "execution_count": 10
  },
  {
   "attachments": {},
   "cell_type": "markdown",
   "id": "italic-hydrogen",
   "metadata": {},
   "source": [
    "#### Ejercicio 06.\n",
    "\n",
    "Elimina los NAs del dataset, si aplica (★★☆)\n",
    "\n",
    "Muestra las dimensiones del DataFrame original y del DataFrame después de las eliminaciones."
   ]
  },
  {
   "cell_type": "code",
   "id": "administrative-roads",
   "metadata": {
    "ExecuteTime": {
     "end_time": "2025-10-08T13:30:04.347295Z",
     "start_time": "2025-10-08T13:30:03.264457Z"
    }
   },
   "source": [
    "# 🧹 Ejercicio 06 — Eliminación de valores no admitidos (NAs)\n",
    "\n",
    "# 1️⃣ Carga del dataset\n",
    "df = pd.read_csv('../data/real_estate.csv', sep=';')\n",
    "\n",
    "# 2️⃣ Guardamos las dimensiones originales\n",
    "original_shape = df.shape\n",
    "\n",
    "# 3️⃣ Eliminamos las filas que contengan valores nulos\n",
    "df_clean = df.dropna()\n",
    "\n",
    "# 4️⃣ Obtenemos las nuevas dimensiones\n",
    "clean_shape = df_clean.shape\n",
    "\n",
    "# 5️⃣ Mostramos los resultados\n",
    "print(f\"Dimensiones originales del DataFrame: {original_shape}\")\n",
    "print(f\"Dimensiones después de eliminar NAs: {clean_shape}\")"
   ],
   "outputs": [
    {
     "name": "stdout",
     "output_type": "stream",
     "text": [
      "Dimensiones originales del DataFrame: (15335, 37)\n",
      "Dimensiones después de eliminar NAs: (0, 37)\n"
     ]
    }
   ],
   "execution_count": 11
  },
  {
   "cell_type": "markdown",
   "id": "c00ce93f7105532e",
   "metadata": {},
   "source": [
    "#### Ejercicio 07\n",
    "\n",
    "¿Cuantas poblaciones (columna level5) contiene el dataset? (★☆☆)\n",
    "\n",
    "- Muestra una lista con los nombres de las poblaciones\n",
    "- Muestra el total de las mismas"
   ]
  },
  {
   "cell_type": "code",
   "id": "dd8aec62c12bd8db",
   "metadata": {
    "ExecuteTime": {
     "end_time": "2025-10-08T13:31:29.940132Z",
     "start_time": "2025-10-08T13:31:28.985403Z"
    }
   },
   "source": [
    "# 🌍 Ejercicio 07 — Cantidad de poblaciones (columna level5)\n",
    "\n",
    "# 1️⃣ Carga del dataset\n",
    "df = pd.read_csv('../data/real_estate.csv', sep=';')\n",
    "\n",
    "# 2️⃣ Lista de poblaciones únicas\n",
    "poblaciones = df['level5'].unique()\n",
    "\n",
    "# 3️⃣ Cantidad total de poblaciones\n",
    "total_poblaciones = df['level5'].nunique()\n",
    "\n",
    "# 4️⃣ Mostrar resultados\n",
    "print(\"🔹 Lista de poblaciones:\")\n",
    "print(poblaciones)\n",
    "\n",
    "print(f\"\\n🔸 Total de poblaciones: {total_poblaciones}\")"
   ],
   "outputs": [
    {
     "name": "stdout",
     "output_type": "stream",
     "text": [
      "🔹 Lista de poblaciones:\n",
      "['Arganda del Rey' 'Fuenlabrada' 'Boadilla del Monte'\n",
      " 'Las Rozas de Madrid' ' Madrid Capital' 'Villaviciosa de Odón' 'Pinto'\n",
      " 'Valdemoro' 'Navalcarnero' 'Pozuelo de Alarcón' 'Torrejón de Ardoz'\n",
      " 'Navalagamella' 'San Sebastián de los Reyes' 'Rivas-vaciamadrid'\n",
      " 'Alpedrete' 'Móstoles' 'San Fernando de Henares' 'Coslada'\n",
      " 'Becerril de la Sierra' 'Alcalá de Henares' 'Chinchón' 'Parla' 'Alcorcón'\n",
      " 'El Escorial' 'Leganés' 'Pedrezuela' 'Majadahonda'\n",
      " 'Villanueva de la Cañada' 'Villanueva del Pardillo' 'Torrelodones'\n",
      " 'Moralzarzal' 'Mejorada del Campo' 'Aranjuez' 'Corpa' 'Getafe'\n",
      " 'Velilla de San Antonio' 'Sevilla la Nueva' 'San Martín de la Vega'\n",
      " 'Villalbilla' 'Collado Villalba' 'Alcobendas' 'El Molar (Madrid)'\n",
      " 'Moraleja de Enmedio' 'Algete' 'Campo Real' 'Torrejón de la Calzada'\n",
      " 'Colmenar Viejo' 'Valdemorillo' 'Fuente El Saz de Jarama' 'Tres Cantos'\n",
      " 'Arroyomolinos (Madrid)' 'Griñón' 'Paracuellos de Jarama' 'Guadarrama'\n",
      " 'Titulcia' 'Galapagar' 'Collado Mediano' 'Los Molinos'\n",
      " 'San Lorenzo de El Escorial' 'Loeches' 'San Martín de Valdeiglesias'\n",
      " 'Navas del Rey' 'Bustarviejo' 'Manzanares El Real' 'Carabaña'\n",
      " 'Casarrubuelos' 'Cercedilla' 'Fresnedillas de la Oliva' 'Valdemaqueda'\n",
      " 'Robledo de Chavela' 'Miraflores de la Sierra' 'Humanes de Madrid'\n",
      " 'Valdetorres de Jarama' 'San Agustín del Guadalix' 'Ciempozuelos'\n",
      " 'Camarma de Esteruelas' 'Torres de la Alameda' 'Talamanca de Jarama'\n",
      " 'El Atazar' 'Hoyo de Manzanares' 'El Boalo - Cerceda – Mataelpino'\n",
      " 'El Álamo' 'Valdilecha' 'Valdeolmos-Alalpardo' 'Guadalix de la Sierra'\n",
      " 'Belmonte de Tajo' 'El Vellón' 'Brunete' 'Redueña' 'Morata de Tajuña'\n",
      " 'Tielmes' 'Gargantilla del Lozoya' 'Meco' 'Venturada' 'Quijorna'\n",
      " 'Cenicientos' 'Torrejón de Velasco' 'Navacerrada'\n",
      " 'Santa María de la Alameda' 'Orusco de Tajuña' 'Daganzo de Arriba'\n",
      " 'Villamanta' 'Anchuelo' 'Valdaracete' 'Ajalvir' 'Los Santos de la Humosa'\n",
      " 'Villamanrique de Tajo' 'Colmenar de Oreja' 'Villa del Prado'\n",
      " 'Fuentidueña de Tajo' 'Colmenar del Arroyo' 'Valdelaguna'\n",
      " 'Cubas de la Sagra' 'Valdeavero' 'Aldea del Fresno' 'Ribatejada'\n",
      " 'Torrelaguna' 'Batres' 'Pezuela de las Torres' 'Colmenarejo'\n",
      " 'Serranillos del Valle' 'Cobeña' 'Soto del Real' 'El Berrueco'\n",
      " 'Villanueva de Perales' 'Fresno de Torote - Serracines' 'Pozuelo del Rey'\n",
      " 'Pelayos de la Presa' 'La Cabrera' 'Nuevo Baztán' 'Perales de Tajuña'\n",
      " 'Villaconejos' 'Villarejo de Salvanés' 'Cadalso de los Vidrios'\n",
      " 'Santorcaz' 'Madarcos' 'Garganta de los Montes' 'Puentes Viejas'\n",
      " 'Torremocha de Jarama' 'Valdemanco' 'Braojos'\n",
      " 'Lozoyuela-navas-sieteiglesias' 'Piñuécar-gandullas' 'Valdepiélagos'\n",
      " 'Valverde de Alcalá' 'Villar del Olmo' 'Villamantilla'\n",
      " 'Horcajo de la Sierra' 'Gascones' 'Zarzalejo' 'Villavieja del Lozoya'\n",
      " 'Brea de Tajo' 'Estremera' 'Chapinería' 'Navarredonda' 'Patones' 'Ambite'\n",
      " 'Navalafuente' 'Lozoya' 'Canencia' 'Cabanillas de la Sierra'\n",
      " 'Buitrago del Lozoya' 'Fresno de Torote' 'Robregordo' 'Pinilla del Valle'\n",
      " 'Rascafría' 'La Hiruela' 'Montejo de la Sierra']\n",
      "\n",
      "🔸 Total de poblaciones: 168\n"
     ]
    }
   ],
   "execution_count": 12
  },
  {
   "cell_type": "markdown",
   "id": "ffe874b946959731",
   "metadata": {},
   "source": [
    "#### Ejercicio 08\n",
    "\n",
    "¿Cuál es la media de precios en la población (columna level5) de \"Arroyomolinos (Madrid)\"? (★★☆)"
   ]
  },
  {
   "cell_type": "code",
   "id": "1454ad464d3f1dfe",
   "metadata": {
    "ExecuteTime": {
     "end_time": "2025-10-08T13:32:40.926403Z",
     "start_time": "2025-10-08T13:32:39.197038Z"
    }
   },
   "source": [
    "# 💶 Ejercicio 08 — Media de precios en la población \"Arroyomolinos (Madrid)\"\n",
    "\n",
    "# 1️⃣ Carga del dataset\n",
    "df = pd.read_csv('../data/real_estate.csv', sep=';')\n",
    "\n",
    "# 2️⃣ Filtramos las propiedades ubicadas en \"Arroyomolinos (Madrid)\"\n",
    "arroyomolinos = df[df['level5'] == 'Arroyomolinos (Madrid)']\n",
    "\n",
    "# 3️⃣ Calculamos la media de precios\n",
    "mean_price = arroyomolinos['price'].mean()\n",
    "\n",
    "# 4️⃣ Mostramos el resultado formateado\n",
    "print(f\"La media de precios en la población 'Arroyomolinos (Madrid)' es de {mean_price:.2f} €\")"
   ],
   "outputs": [
    {
     "name": "stdout",
     "output_type": "stream",
     "text": [
      "La media de precios en la población 'Arroyomolinos (Madrid)' es de 294541.60 €\n"
     ]
    }
   ],
   "execution_count": 13
  },
  {
   "attachments": {},
   "cell_type": "markdown",
   "id": "actual-edinburgh",
   "metadata": {},
   "source": [
    "#### Ejercicio 09.\n",
    "\n",
    "¿Los precios promedios de \"Valdemorillo\" y \"Galapagar\" son iguales? (★★☆)\n",
    "\n",
    "- Muestra ambos promedios\n",
    "- Escribe en una celda markdown una conclusión sobre ellos"
   ]
  },
  {
   "cell_type": "code",
   "id": "numeric-commerce",
   "metadata": {
    "ExecuteTime": {
     "end_time": "2025-10-08T13:34:07.022164Z",
     "start_time": "2025-10-08T13:34:05.929817Z"
    }
   },
   "source": [
    "# 💸 Ejercicio 09 — Comparación de precios promedio entre \"Valdemorillo\" y \"Galapagar\"\n",
    "\n",
    "# 1️⃣ Carga del dataset\n",
    "df = pd.read_csv('../data/real_estate.csv', sep=';')\n",
    "\n",
    "# 2️⃣ Filtramos las propiedades por población\n",
    "valdemorillo = df[df['level5'] == 'Valdemorillo']\n",
    "galapagar = df[df['level5'] == 'Galapagar']\n",
    "\n",
    "# 3️⃣ Calculamos el precio promedio de cada una\n",
    "mean_valdemorillo = valdemorillo['price'].mean()\n",
    "mean_galapagar = galapagar['price'].mean()\n",
    "\n",
    "# 4️⃣ Mostramos los resultados\n",
    "print(f\"Precio promedio en Valdemorillo: {mean_valdemorillo:.2f} €\")\n",
    "print(f\"Precio promedio en Galapagar: {mean_galapagar:.2f} €\")\n",
    "\n",
    "# 5️⃣ Comprobamos si son iguales\n",
    "if mean_valdemorillo == mean_galapagar:\n",
    "    print(\"\\n✅ Los precios promedio son iguales.\")\n",
    "else:\n",
    "    print(\"\\n❌ Los precios promedio son diferentes.\")"
   ],
   "outputs": [
    {
     "name": "stdout",
     "output_type": "stream",
     "text": [
      "Precio promedio en Valdemorillo: 363860.29 €\n",
      "Precio promedio en Galapagar: 360063.20 €\n",
      "\n",
      "❌ Los precios promedio son diferentes.\n"
     ]
    }
   ],
   "execution_count": 14
  },
  {
   "metadata": {},
   "cell_type": "markdown",
   "source": [
    "### ✅ Conclusión\n",
    "\n",
    "Tras calcular los precios promedio de ambas poblaciones, se obtuvieron los siguientes resultados:\n",
    "\n",
    "- **Precio promedio en Valdemorillo:** 363.860,29 €\n",
    "- **Precio promedio en Galapagar:** 360.063,20 €\n",
    "\n",
    "Aunque la diferencia no es muy grande, **los precios promedio no son exactamente iguales**, lo que indica que el mercado inmobiliario de **Valdemorillo** tiende a ser ligeramente más caro que el de **Galapagar**.\n",
    "Esta variación puede deberse a factores como el tipo de vivienda predominante, la superficie media, la cercanía a centros urbanos o diferencias en la demanda local.\n",
    "\n",
    "En conclusión, ambos municipios presentan precios relativamente similares dentro del rango alto del mercado, pero **Valdemorillo muestra una ligera ventaja en el valor promedio por propiedad**.\n"
   ],
   "id": "2039daa3a32c87a0"
  },
  {
   "attachments": {},
   "cell_type": "markdown",
   "id": "lonely-article",
   "metadata": {},
   "source": [
    "#### Ejercicio 10\n",
    "\n",
    "¿Los promedios de precio por metro cuadrado (precio/m2) de \"Valdemorillo\" y \"Galapagar\" son iguales? (★★☆)\n",
    "\n",
    "> Pista: Crea una nueva columna llamada `pps` (*price per square* o precio por metro cuadrado) y luego analiza los valores.\n",
    "\n",
    "- Muestra ambos promedios de precio por metro cuadrado\n",
    "- Escribe en una celda markdown una conclusión sobre ellos"
   ]
  },
  {
   "cell_type": "code",
   "id": "common-drilling",
   "metadata": {
    "ExecuteTime": {
     "end_time": "2025-10-08T13:45:12.871908Z",
     "start_time": "2025-10-08T13:45:11.856175Z"
    }
   },
   "source": [
    "# 💰 Ejercicio 10 — Comparación del precio por metro cuadrado entre \"Valdemorillo\" y \"Galapagar\"\n",
    "\n",
    "# 1️⃣ Carga del dataset\n",
    "df = pd.read_csv('../data/real_estate.csv', sep=';')\n",
    "\n",
    "# 2️⃣ Crear la columna \"pps\" (precio por metro cuadrado)\n",
    "df['pps'] = df['price'] / df['surface']\n",
    "\n",
    "# 3️⃣ Filtrar las poblaciones\n",
    "valdemorillo = df[df['level5'] == 'Valdemorillo']\n",
    "galapagar = df[df['level5'] == 'Galapagar']\n",
    "\n",
    "# 4️⃣ Calcular el promedio de precio por m²\n",
    "mean_pps_valdemorillo = valdemorillo['pps'].mean()\n",
    "mean_pps_galapagar = galapagar['pps'].mean()\n",
    "\n",
    "# 5️⃣ Mostrar resultados\n",
    "print(f\"Precio promedio por m² en Valdemorillo: {mean_pps_valdemorillo:.2f} €/m²\")\n",
    "print(f\"Precio promedio por m² en Galapagar: {mean_pps_galapagar:.2f} €/m²\")\n",
    "\n",
    "# 6️⃣ Comparación\n",
    "if mean_pps_valdemorillo == mean_pps_galapagar:\n",
    "    print(\"\\n✅ Los precios promedio por metro cuadrado son iguales.\")\n",
    "else:\n",
    "    print(\"\\n❌ Los precios promedio por metro cuadrado son diferentes.\")\n"
   ],
   "outputs": [
    {
     "name": "stdout",
     "output_type": "stream",
     "text": [
      "Precio promedio por m² en Valdemorillo: 1317.95 €/m²\n",
      "Precio promedio por m² en Galapagar: 1606.32 €/m²\n",
      "\n",
      "❌ Los precios promedio por metro cuadrado son diferentes.\n"
     ]
    }
   ],
   "execution_count": 15
  },
  {
   "attachments": {},
   "cell_type": "markdown",
   "id": "coordinate-sunrise",
   "metadata": {},
   "source": [
    "#### Ejercicio 11\n",
    "\n",
    "¿Cuántas agencia de bienes raíces contiene el dataset? (★★☆)\n",
    "\n",
    "- Muestra el valor obtenido."
   ]
  },
  {
   "cell_type": "code",
   "id": "valid-honolulu",
   "metadata": {
    "ExecuteTime": {
     "end_time": "2025-10-08T13:56:50.196014Z",
     "start_time": "2025-10-08T13:56:48.305628Z"
    }
   },
   "source": [
    "# 🏢 Ejercicio 11 — Cantidad de agencias de bienes raíces en el dataset\n",
    "\n",
    "# 1️⃣ Carga del dataset\n",
    "df = pd.read_csv('../data/real_estate.csv', sep=';')\n",
    "\n",
    "# 2️⃣ Conteo de agencias únicas\n",
    "num_agencias = df['realEstate_name'].nunique()\n",
    "\n",
    "# 3️⃣ Mostrar el resultado\n",
    "print(f\"El dataset contiene {num_agencias} agencias inmobiliarias diferentes.\")"
   ],
   "outputs": [
    {
     "name": "stdout",
     "output_type": "stream",
     "text": [
      "El dataset contiene 1821 agencias inmobiliarias diferentes.\n"
     ]
    }
   ],
   "execution_count": 18
  },
  {
   "attachments": {},
   "cell_type": "markdown",
   "id": "binding-ebony",
   "metadata": {},
   "source": [
    "#### Ejercicio 12\n",
    "\n",
    "¿Cuál es la población (columna level5) que contiene la mayor cantidad de casas?(★★☆)\n",
    "\n",
    "- Muestra la población y el número de casas."
   ]
  },
  {
   "cell_type": "code",
   "id": "static-perry",
   "metadata": {
    "ExecuteTime": {
     "end_time": "2025-10-08T13:58:59.391259Z",
     "start_time": "2025-10-08T13:58:58.512615Z"
    }
   },
   "source": [
    "\n",
    "# 1️⃣ Carga del dataset\n",
    "df = pd.read_csv('../data/real_estate.csv', sep=';')\n",
    "\n",
    "# 2️⃣ Conteo de casas por población\n",
    "conteo_poblaciones = df['level5'].value_counts()\n",
    "\n",
    "# 3️⃣ Identificar la población con mayor cantidad de propiedades\n",
    "poblacion_max = conteo_poblaciones.idxmax()\n",
    "cantidad_max = conteo_poblaciones.max()\n",
    "\n",
    "# 4️⃣ Mostrar el resultado\n",
    "print(f\"La población con mayor cantidad de casas es '{poblacion_max}' con un total de {cantidad_max} propiedades.\")"
   ],
   "outputs": [
    {
     "name": "stdout",
     "output_type": "stream",
     "text": [
      "La población con mayor cantidad de casas es ' Madrid Capital' con un total de 6643 propiedades.\n"
     ]
    }
   ],
   "execution_count": 19
  },
  {
   "cell_type": "markdown",
   "id": "f6891b36e4d016c4",
   "metadata": {},
   "source": [
    "---\n",
    "\n",
    "## Trabajando con un subconjunto del DataFrame"
   ]
  },
  {
   "attachments": {},
   "cell_type": "markdown",
   "id": "entire-classification",
   "metadata": {},
   "source": [
    "#### Ejercicio 13\n",
    "\n",
    "Ahora vamos a trabajar con el \"cinturón sur\" de Madrid.\n",
    "\n",
    "Haz un subconjunto del DataFrame original que contenga las siguientes poblaciones (columna level5): \"Fuenlabrada\", \"Leganés\", \"Getafe\", \"Alcorcón\" (★★☆)\n",
    "\n",
    "> Pista: Filtra el DataFrame original usando la columna `level5` y la función `isin`."
   ]
  },
  {
   "cell_type": "code",
   "id": "binary-input",
   "metadata": {
    "ExecuteTime": {
     "end_time": "2025-10-14T22:54:50.985187Z",
     "start_time": "2025-10-14T22:54:48.036663Z"
    }
   },
   "source": [
    "\n",
    "# Carga del dataset\n",
    "df = pd.read_csv('../data/real_estate.csv', sep=';')\n",
    "\n",
    "#  Definimos las poblaciones del \"Cinturón Sur\"\n",
    "poblaciones_sur = [\"Fuenlabrada\", \"Leganés\", \"Getafe\", \"Alcorcón\"]\n",
    "\n",
    "#  Filtramos el DataFrame original usando .isin()\n",
    "belt_sur = df[df['level5'].isin(poblaciones_sur)]\n",
    "\n",
    "#  Mostramos las primeras filas del subconjunto\n",
    "print(\"Subconjunto del 'Cinturón Sur' de Madrid:\")\n",
    "print(belt_sur.head())\n",
    "\n",
    "# Verificamos cuántas propiedades incluye el nuevo DataFrame\n",
    "print(f\"\\nNúmero total de propiedades en el cinturón sur: {len(belt_sur)}\")\n",
    "\n",
    "#Cantidad de propiedades por población en el cinturón sur\n",
    "print(\"\\nCantidad de propiedades por municipio en el cinturón sur:\")\n",
    "print(belt_sur['level5'].value_counts())\n"
   ],
   "outputs": [
    {
     "name": "stdout",
     "output_type": "stream",
     "text": [
      "Subconjunto del 'Cinturón Sur' de Madrid:\n",
      "     Unnamed: 0  id_realEstates  isNew                    realEstate_name  \\\n",
      "1             2       153867863  False  tecnocasa fuenlabrada ferrocarril   \n",
      "3             4       152776331  False  tecnocasa fuenlabrada ferrocarril   \n",
      "85           86       153152077  False            sinergical inmobiliaria   \n",
      "94           95       153995577  False                    viviendas365com   \n",
      "109         110       153586414  False    area uno asesores inmobiliarios   \n",
      "\n",
      "     phone_realEstate                                       url_inmueble  \\\n",
      "1         916358736.0  https://www.fotocasa.es/es/comprar/vivienda/ma...   \n",
      "3         916358736.0  https://www.fotocasa.es/es/comprar/vivienda/ma...   \n",
      "85                NaN  https://www.fotocasa.es/es/comprar/vivienda/le...   \n",
      "94        911226014.0  https://www.fotocasa.es/es/comprar/vivienda/le...   \n",
      "109       912664081.0  https://www.fotocasa.es/es/comprar/vivienda/ma...   \n",
      "\n",
      "     rooms  bathrooms  surface   price  ... level4Id level5Id level6Id  \\\n",
      "1      3.0        1.0      NaN   89000  ...        0        0        0   \n",
      "3      3.0        1.0     86.0   89000  ...        0        0        0   \n",
      "85     1.0        1.0     50.0  107000  ...        0        0        0   \n",
      "94     3.0        2.0    120.0  320000  ...        0        0        0   \n",
      "109    3.0        3.0    142.0  425000  ...        0        0        0   \n",
      "\n",
      "    level7Id level8Id accuracy          latitude          longitude zipCode  \\\n",
      "1          0        0        1          40,28674           -3,79351     NaN   \n",
      "3          0        0        0  40,2853785786438  -3,79508142135624     NaN   \n",
      "85         0        0        1          40,35059           -3,82693     NaN   \n",
      "94         0        0        0          40,31933           -3,77574     NaN   \n",
      "109        0        0        0        40,3313411         -3,8313868     NaN   \n",
      "\n",
      "    customZone  \n",
      "1          NaN  \n",
      "3          NaN  \n",
      "85         NaN  \n",
      "94         NaN  \n",
      "109        NaN  \n",
      "\n",
      "[5 rows x 37 columns]\n",
      "\n",
      "Número total de propiedades en el cinturón sur: 907\n",
      "\n",
      "Cantidad de propiedades por municipio en el cinturón sur:\n",
      "level5\n",
      "Getafe         290\n",
      "Fuenlabrada    233\n",
      "Leganés        194\n",
      "Alcorcón       190\n",
      "Name: count, dtype: int64\n"
     ]
    }
   ],
   "execution_count": 2
  },
  {
   "attachments": {},
   "cell_type": "markdown",
   "id": "speaking-diamond",
   "metadata": {},
   "source": [
    "#### Ejercicio 14\n",
    "\n",
    "Calcula la media y la varianza de muestra para las siguientes variables: precio, habitaciones, superficie y baños (★★★)\n",
    "\n",
    "> Debes usar el subset obtenido en la pregunta 13\n",
    "\n",
    "- Crea y visualiza un diccionario con todos los valores"
   ]
  },
  {
   "cell_type": "code",
   "id": "random-feeling",
   "metadata": {
    "ExecuteTime": {
     "end_time": "2025-10-14T22:59:26.192500Z",
     "start_time": "2025-10-14T22:59:25.105381Z"
    }
   },
   "source": [
    "\n",
    "\n",
    "# 1️⃣ Si no existe en memoria, volvemos a crear el subset del cinturón sur\n",
    "df = pd.read_csv('../data/real_estate.csv', sep=';')\n",
    "poblaciones_sur = [\"Fuenlabrada\", \"Leganés\", \"Getafe\", \"Alcorcón\"]\n",
    "belt_sur = df[df['level5'].isin(poblaciones_sur)]\n",
    "\n",
    "# 2️⃣ Cálculo de medias\n",
    "mean_values = {\n",
    "    'price_mean': belt_sur['price'].mean(),\n",
    "    'rooms_mean': belt_sur['rooms'].mean(),\n",
    "    'surface_mean': belt_sur['surface'].mean(),\n",
    "    'bathrooms_mean': belt_sur['bathrooms'].mean()\n",
    "}\n",
    "\n",
    "# 3️⃣ Cálculo de varianzas muestrales\n",
    "var_values = {\n",
    "    'price_var': belt_sur['price'].var(ddof=1),\n",
    "    'rooms_var': belt_sur['rooms'].var(ddof=1),\n",
    "    'surface_var': belt_sur['surface'].var(ddof=1),\n",
    "    'bathrooms_var': belt_sur['bathrooms'].var(ddof=1)\n",
    "}\n",
    "\n",
    "# 4️⃣ Combinamos en un único diccionario\n",
    "stats_dict = {**mean_values, **var_values}\n",
    "\n",
    "# 5️⃣ Mostramos el diccionario con todos los valores\n",
    "print(\"Diccionario de medias y varianzas muestrales:\")\n",
    "print(stats_dict)"
   ],
   "outputs": [
    {
     "name": "stdout",
     "output_type": "stream",
     "text": [
      "Diccionario de medias y varianzas muestrales:\n",
      "{'price_mean': np.float64(223094.48070562293), 'rooms_mean': np.float64(3.0177383592017737), 'surface_mean': np.float64(111.75222363405337), 'bathrooms_mean': np.float64(1.633221850613155), 'price_var': np.float64(14921367508.04902), 'rooms_var': np.float64(0.7188858892927542), 'surface_var': np.float64(4263.051760316337), 'bathrooms_var': np.float64(0.5717968625577321)}\n"
     ]
    }
   ],
   "execution_count": 3
  },
  {
   "attachments": {},
   "cell_type": "markdown",
   "id": "revolutionary-matrix",
   "metadata": {},
   "source": [
    "#### Ejercicio 15\n",
    "\n",
    "¿Cuál es la casa más cara de cada población del cinturón sur de Madríd? (★★☆)\n",
    "\n",
    "> Debes usar el subset obtenido en la pregunta 13\n",
    "\n",
    "- Genera un DataFrame con esta información\n",
    "- Muestra tanto la dirección como el precio de la casa seleccionada de cada población.\n",
    "- Genera conclusiones en una celda markdown"
   ]
  },
  {
   "cell_type": "code",
   "id": "fifteen-browse",
   "metadata": {
    "ExecuteTime": {
     "end_time": "2025-10-15T11:24:40.366024Z",
     "start_time": "2025-10-15T11:24:39.015824Z"
    }
   },
   "source": [
    "# 🏠 Ejercicio 15 — Casa más cara de cada población del Cinturón Sur de Madrid\n",
    "\n",
    "import pandas as pd\n",
    "\n",
    "# 1️⃣ Si no existe, volvemos a crear el subset del cinturón sur\n",
    "df = pd.read_csv('../data/real_estate.csv', sep=';')\n",
    "poblaciones_sur = [\"Fuenlabrada\", \"Leganés\", \"Getafe\", \"Alcorcón\"]\n",
    "belt_sur = df[df['level5'].isin(poblaciones_sur)]\n",
    "\n",
    "# 2️⃣ Encontrar la casa más cara de cada población\n",
    "casas_caras = belt_sur.loc[\n",
    "    belt_sur.groupby(\"level5\")[\"price\"].idxmax(),\n",
    "    [\"level5\", \"address\", \"price\"]\n",
    "]\n",
    "\n",
    "# 3️⃣ Mostrar el nuevo DataFrame\n",
    "print(\"Casas más caras por población del Cinturón Sur de Madrid:\")\n",
    "print(casas_caras)\n"
   ],
   "outputs": [
    {
     "name": "stdout",
     "output_type": "stream",
     "text": [
      "Casas más caras por población del Cinturón Sur de Madrid:\n",
      "            level5                                address    price\n",
      "5585      Alcorcón                               Alcorcón   950000\n",
      "11561  Fuenlabrada  Calle de Paulo Freire, 5, Fuenlabrada   490000\n",
      "2881        Getafe                                 Getafe  1050000\n",
      "10412      Leganés           Avenida Reina Sofía, Leganés   650000\n"
     ]
    }
   ],
   "execution_count": 2
  },
  {
   "attachments": {},
   "cell_type": "markdown",
   "id": "patent-jonathan",
   "metadata": {},
   "source": [
    "#### Ejercicio 16\n",
    "\n",
    "¿Qué puedes decir acerca del precio por metro cuadrado (precio/m2) entre los municipios de 'Getafe' y 'Alcorcón'? (★★☆)\n",
    "\n",
    "> Debes usar el subset obtenido en la pregunta 13\n",
    ">\n",
    "> Pista: Crea una nueva columna llamada `pps` (price per square en inglés) y luego analiza los valores"
   ]
  },
  {
   "cell_type": "code",
   "id": "initial-liverpool",
   "metadata": {
    "ExecuteTime": {
     "end_time": "2025-10-14T23:16:32.243278Z",
     "start_time": "2025-10-14T23:16:29.252260Z"
    }
   },
   "source": [
    "# 💶 Ejercicio 16 — Comparación del precio por m² entre Getafe y Alcorcón (sin warnings)\n",
    "\n",
    "import pandas as pd\n",
    "import numpy as np\n",
    "\n",
    "# 1) Carga del dataset\n",
    "df = pd.read_csv('../data/real_estate.csv', sep=';')\n",
    "\n",
    "# 2) Subset del Cinturón Sur (copia explícita para evitar SettingWithCopyWarning)\n",
    "poblaciones_sur = [\"Fuenlabrada\", \"Leganés\", \"Getafe\", \"Alcorcón\"]\n",
    "belt_sur = df[df['level5'].isin(poblaciones_sur)].copy()\n",
    "\n",
    "# 3) Limpieza mínima para pps: remover superficies nulas/ceros y precios nulos/negativos\n",
    "belt_sur = belt_sur[(belt_sur['surface'] > 0) & (belt_sur['price'] > 0)].copy()\n",
    "\n",
    "# 4) Crear columna pps (price per square meter) con asignación segura\n",
    "belt_sur.loc[:, 'pps'] = belt_sur['price'] / belt_sur['surface']\n",
    "\n",
    "# 5) Filtrar municipios objetivo\n",
    "getafe = belt_sur[belt_sur['level5'] == 'Getafe']\n",
    "alcorcon = belt_sur[belt_sur['level5'] == 'Alcorcón']\n",
    "\n",
    "# 6) Calcular promedios de pps\n",
    "mean_getafe = getafe['pps'].mean()\n",
    "mean_alcorcon = alcorcon['pps'].mean()\n",
    "\n",
    "# 7) Mostrar resultados\n",
    "print(f\"Precio promedio por m² en Getafe: {mean_getafe:.2f} €/m²\")\n",
    "print(f\"Precio promedio por m² en Alcorcón: {mean_alcorcon:.2f} €/m²\")\n",
    "\n",
    "# 8) Comparación\n",
    "if np.isclose(mean_getafe, mean_alcorcon, rtol=0, atol=1e-9):\n",
    "    print(\"\\n✅ Ambos municipios tienen el mismo precio promedio por m² (≈).\")\n",
    "elif mean_getafe > mean_alcorcon:\n",
    "    print(\"\\n🏠 Getafe tiene un precio promedio por m² más alto que Alcorcón.\")\n",
    "else:\n",
    "    print(\"\\n🏠 Alcorcón tiene un precio promedio por m² más alto que Getafe.\")\n"
   ],
   "outputs": [
    {
     "name": "stdout",
     "output_type": "stream",
     "text": [
      "Precio promedio por m² en Getafe: 2174.59 €/m²\n",
      "Precio promedio por m² en Alcorcón: 2239.30 €/m²\n",
      "\n",
      "🏠 Alcorcón tiene un precio promedio por m² más alto que Getafe.\n"
     ]
    }
   ],
   "execution_count": 6
  },
  {
   "cell_type": "markdown",
   "id": "77f4fb6b000f9e0b",
   "metadata": {},
   "source": "## Conclusiones\n"
  },
  {
   "metadata": {},
   "cell_type": "code",
   "outputs": [],
   "execution_count": null,
   "source": "",
   "id": "3b094b698a31d1f0"
  },
  {
   "cell_type": "markdown",
   "id": "d68570bb7b80a83e",
   "metadata": {},
   "source": [
    "#### Ejercicio 17\n",
    "\n",
    "Escribe aquí tus conclusiones acerca de este proyecto"
   ]
  },
  {
   "metadata": {},
   "cell_type": "markdown",
   "source": [
    "# 🏡 Conclusión Final — Análisis del mercado inmobiliario de Madrid con Python\n",
    "\n",
    "A lo largo de este trabajo se realizó un **análisis exploratorio de datos (EDA)** sobre un conjunto de información inmobiliaria de la Comunidad de Madrid, aplicando las herramientas de **Python** y **Pandas** para la manipulación, filtrado y estudio de variables clave como el **precio**, la **superficie**, las **habitaciones** y los **baños**.\n",
    "\n",
    "En las primeras etapas se practicaron operaciones fundamentales:\n",
    "- Identificación de la **casa más cara, más barata, más grande y más pequeña** del dataset.\n",
    "- Detección y eliminación de **valores nulos (NAs)** para garantizar la calidad de los datos.\n",
    "- Análisis de la **distribución geográfica** de las viviendas según la columna `level5` (poblaciones).\n",
    "\n",
    "Posteriormente, se focalizó el estudio en el **Cinturón Sur de Madrid**, conformado por *Fuenlabrada*, *Leganés*, *Getafe* y *Alcorcón*.\n",
    "Sobre este subconjunto (`belt_sur`) se aplicaron herramientas estadísticas y de agrupamiento para obtener:\n",
    "- **Medias y varianzas muestrales** de las principales variables del mercado.\n",
    "- Identificación de **la casa más cara en cada municipio**.\n",
    "- Cálculo y comparación del **precio por metro cuadrado (€/m²)** como indicador real del valor de las propiedades.\n",
    "\n",
    "Los resultados mostraron que dentro del Cinturón Sur existen diferencias notorias en los precios:\n",
    "- **Alcorcón** presentó los valores promedio más altos por metro cuadrado, reflejando su mayor cercanía a Madrid y un nivel de desarrollo urbano más consolidado.\n",
    "- **Getafe**, por su parte, mostró precios algo menores, posicionándose como una opción más accesible dentro del área metropolitana.\n",
    "- **Fuenlabrada** y **Leganés** se ubicaron en un rango medio, manteniendo equilibrio entre precio y tamaño de vivienda.\n",
    "\n",
    "En síntesis, el análisis permitió comprender cómo **factores geográficos, estructurales y socioeconómicos** influyen directamente en el valor inmobiliario.\n",
    "El uso de Pandas facilitó la obtención de métricas precisas y visualizaciones rápidas, demostrando la **potencia de la analítica de datos aplicada al sector inmobiliario**.\n",
    "\n",
    "Finalmente, este trabajo no solo permitió desarrollar habilidades técnicas (limpieza, filtrado y análisis de datos con Python),\n",
    "sino también interpretar la información desde una perspectiva empresarial,\n",
    "aportando conclusiones útiles para la **toma de decisiones en el mercado de bienes raíces**.\n"
   ],
   "id": "c154984ae7500640"
  }
 ],
 "metadata": {
  "kernelspec": {
   "display_name": "Python 3",
   "language": "python",
   "name": "python3"
  },
  "language_info": {
   "codemirror_mode": {
    "name": "ipython",
    "version": 3
   },
   "file_extension": ".py",
   "mimetype": "text/x-python",
   "name": "python",
   "nbconvert_exporter": "python",
   "pygments_lexer": "ipython3",
   "version": "3.11.3"
  }
 },
 "nbformat": 4,
 "nbformat_minor": 5
}
